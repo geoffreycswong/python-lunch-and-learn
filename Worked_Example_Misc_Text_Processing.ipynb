{
  "nbformat": 4,
  "nbformat_minor": 0,
  "metadata": {
    "colab": {
      "provenance": [],
      "authorship_tag": "ABX9TyM0wyTDHwUfRkIyuku1fYvQ",
      "include_colab_link": true
    },
    "kernelspec": {
      "name": "python3",
      "display_name": "Python 3"
    },
    "language_info": {
      "name": "python"
    }
  },
  "cells": [
    {
      "cell_type": "markdown",
      "metadata": {
        "id": "view-in-github",
        "colab_type": "text"
      },
      "source": [
        "<a href=\"https://colab.research.google.com/github/geoffreycswong/python-lunch-and-learn/blob/main/Worked_Example_Misc_Text_Processing.ipynb\" target=\"_parent\"><img src=\"https://colab.research.google.com/assets/colab-badge.svg\" alt=\"Open In Colab\"/></a>"
      ]
    },
    {
      "cell_type": "markdown",
      "source": [
        "# Website Screenshots"
      ],
      "metadata": {
        "id": "VeVniwEsHhlR"
      }
    },
    {
      "cell_type": "markdown",
      "source": [
        "```\n",
        "You are an expert in python, process automation.\n",
        "You will help me write the code for automating daily routine in Google Colab .\n",
        "I will provide you precise instructions on what needs to be done, understand the task and write neat, concise code with comments accordingly.\n",
        "```"
      ],
      "metadata": {
        "id": "Vedz95xWAx08"
      }
    },
    {
      "cell_type": "markdown",
      "source": [
        "This propmt failed many times, need manual input and GPT4.\n",
        "```\n",
        "You are an expert in python, process automation.\n",
        "You will help me write the code for automating daily routine in Google Colab .\n",
        "I will provide you precise instructions on what needs to be done, understand the task and write neat, concise code with comments accordingly.\n",
        "\n",
        "Write me code that takes in an url, then will screenshot the website and save an image.\n",
        "Please also include installation scripts to install chrome browser binary on Google Colab and install the Chrome Driver executable.\n",
        "And make sure all required dependencies used by the code are installed.\n",
        "\n",
        "Include mechanisms to change the resolution of the headless browser so that I can decide how much I would capture from the website.\n",
        "```"
      ],
      "metadata": {
        "id": "UrfdTnWqDEud"
      }
    },
    {
      "cell_type": "code",
      "source": [
        "!wget https://dl.google.com/linux/direct/google-chrome-stable_current_amd64.deb\n",
        "!dpkg -i google-chrome-stable_current_amd64.deb\n",
        "!google-chrome --version"
      ],
      "metadata": {
        "colab": {
          "base_uri": "https://localhost:8080/"
        },
        "id": "_pPGnFnxExD8",
        "outputId": "0c788ef5-6c1e-4a67-a2dc-7efc2b1dcca8"
      },
      "execution_count": 1,
      "outputs": [
        {
          "output_type": "stream",
          "name": "stdout",
          "text": [
            "--2023-06-12 14:56:11--  https://dl.google.com/linux/direct/google-chrome-stable_current_amd64.deb\n",
            "Resolving dl.google.com (dl.google.com)... 74.125.195.91, 74.125.195.136, 74.125.195.93, ...\n",
            "Connecting to dl.google.com (dl.google.com)|74.125.195.91|:443... connected.\n",
            "HTTP request sent, awaiting response... 200 OK\n",
            "Length: 93850844 (90M) [application/x-debian-package]\n",
            "Saving to: ‘google-chrome-stable_current_amd64.deb’\n",
            "\n",
            "google-chrome-stabl 100%[===================>]  89.50M   131MB/s    in 0.7s    \n",
            "\n",
            "2023-06-12 14:56:12 (131 MB/s) - ‘google-chrome-stable_current_amd64.deb’ saved [93850844/93850844]\n",
            "\n",
            "Selecting previously unselected package google-chrome-stable.\n",
            "(Reading database ... 122541 files and directories currently installed.)\n",
            "Preparing to unpack google-chrome-stable_current_amd64.deb ...\n",
            "Unpacking google-chrome-stable (114.0.5735.106-1) ...\n",
            "\u001b[1mdpkg:\u001b[0m dependency problems prevent configuration of google-chrome-stable:\n",
            " google-chrome-stable depends on libu2f-udev; however:\n",
            "  Package libu2f-udev is not installed.\n",
            "\n",
            "\u001b[1mdpkg:\u001b[0m error processing package google-chrome-stable (--install):\n",
            " dependency problems - leaving unconfigured\n",
            "Processing triggers for mime-support (3.64ubuntu1) ...\n",
            "Processing triggers for man-db (2.9.1-1) ...\n",
            "Errors were encountered while processing:\n",
            " google-chrome-stable\n",
            "/bin/bash: google-chrome: command not found\n"
          ]
        }
      ]
    },
    {
      "cell_type": "code",
      "source": [
        "!wget https://chromedriver.storage.googleapis.com/94.0.4606.61/chromedriver_linux64.zip\n",
        "!unzip -o chromedriver_linux64.zip\n",
        "!chmod +x chromedriver\n",
        "!pip install selenium"
      ],
      "metadata": {
        "colab": {
          "base_uri": "https://localhost:8080/"
        },
        "id": "ep1nn-X8EMkn",
        "outputId": "7422252e-8829-45b1-a42a-67d98cc16f7b"
      },
      "execution_count": 2,
      "outputs": [
        {
          "output_type": "stream",
          "name": "stdout",
          "text": [
            "--2023-06-12 14:56:28--  https://chromedriver.storage.googleapis.com/94.0.4606.61/chromedriver_linux64.zip\n",
            "Resolving chromedriver.storage.googleapis.com (chromedriver.storage.googleapis.com)... 172.253.117.128, 2607:f8b0:400e:c0a::80\n",
            "Connecting to chromedriver.storage.googleapis.com (chromedriver.storage.googleapis.com)|172.253.117.128|:443... connected.\n",
            "HTTP request sent, awaiting response... 200 OK\n",
            "Length: 9880569 (9.4M) [application/zip]\n",
            "Saving to: ‘chromedriver_linux64.zip’\n",
            "\n",
            "chromedriver_linux6 100%[===================>]   9.42M  --.-KB/s    in 0.08s   \n",
            "\n",
            "2023-06-12 14:56:28 (115 MB/s) - ‘chromedriver_linux64.zip’ saved [9880569/9880569]\n",
            "\n",
            "Archive:  chromedriver_linux64.zip\n",
            "  inflating: chromedriver            \n",
            "Looking in indexes: https://pypi.org/simple, https://us-python.pkg.dev/colab-wheels/public/simple/\n",
            "Collecting selenium\n",
            "  Downloading selenium-4.10.0-py3-none-any.whl (6.7 MB)\n",
            "\u001b[2K     \u001b[90m━━━━━━━━━━━━━━━━━━━━━━━━━━━━━━━━━━━━━━━━\u001b[0m \u001b[32m6.7/6.7 MB\u001b[0m \u001b[31m58.3 MB/s\u001b[0m eta \u001b[36m0:00:00\u001b[0m\n",
            "\u001b[?25hRequirement already satisfied: urllib3[socks]<3,>=1.26 in /usr/local/lib/python3.10/dist-packages (from selenium) (1.26.15)\n",
            "Collecting trio~=0.17 (from selenium)\n",
            "  Downloading trio-0.22.0-py3-none-any.whl (384 kB)\n",
            "\u001b[2K     \u001b[90m━━━━━━━━━━━━━━━━━━━━━━━━━━━━━━━━━━━━━━\u001b[0m \u001b[32m384.9/384.9 kB\u001b[0m \u001b[31m32.9 MB/s\u001b[0m eta \u001b[36m0:00:00\u001b[0m\n",
            "\u001b[?25hCollecting trio-websocket~=0.9 (from selenium)\n",
            "  Downloading trio_websocket-0.10.3-py3-none-any.whl (17 kB)\n",
            "Requirement already satisfied: certifi>=2021.10.8 in /usr/local/lib/python3.10/dist-packages (from selenium) (2022.12.7)\n",
            "Requirement already satisfied: attrs>=19.2.0 in /usr/local/lib/python3.10/dist-packages (from trio~=0.17->selenium) (23.1.0)\n",
            "Requirement already satisfied: sortedcontainers in /usr/local/lib/python3.10/dist-packages (from trio~=0.17->selenium) (2.4.0)\n",
            "Collecting async-generator>=1.9 (from trio~=0.17->selenium)\n",
            "  Downloading async_generator-1.10-py3-none-any.whl (18 kB)\n",
            "Requirement already satisfied: idna in /usr/local/lib/python3.10/dist-packages (from trio~=0.17->selenium) (3.4)\n",
            "Collecting outcome (from trio~=0.17->selenium)\n",
            "  Downloading outcome-1.2.0-py2.py3-none-any.whl (9.7 kB)\n",
            "Requirement already satisfied: sniffio in /usr/local/lib/python3.10/dist-packages (from trio~=0.17->selenium) (1.3.0)\n",
            "Requirement already satisfied: exceptiongroup>=1.0.0rc9 in /usr/local/lib/python3.10/dist-packages (from trio~=0.17->selenium) (1.1.1)\n",
            "Collecting wsproto>=0.14 (from trio-websocket~=0.9->selenium)\n",
            "  Downloading wsproto-1.2.0-py3-none-any.whl (24 kB)\n",
            "Requirement already satisfied: PySocks!=1.5.7,<2.0,>=1.5.6 in /usr/local/lib/python3.10/dist-packages (from urllib3[socks]<3,>=1.26->selenium) (1.7.1)\n",
            "Collecting h11<1,>=0.9.0 (from wsproto>=0.14->trio-websocket~=0.9->selenium)\n",
            "  Downloading h11-0.14.0-py3-none-any.whl (58 kB)\n",
            "\u001b[2K     \u001b[90m━━━━━━━━━━━━━━━━━━━━━━━━━━━━━━━━━━━━━━━━\u001b[0m \u001b[32m58.3/58.3 kB\u001b[0m \u001b[31m6.8 MB/s\u001b[0m eta \u001b[36m0:00:00\u001b[0m\n",
            "\u001b[?25hInstalling collected packages: outcome, h11, async-generator, wsproto, trio, trio-websocket, selenium\n",
            "Successfully installed async-generator-1.10 h11-0.14.0 outcome-1.2.0 selenium-4.10.0 trio-0.22.0 trio-websocket-0.10.3 wsproto-1.2.0\n"
          ]
        }
      ]
    },
    {
      "cell_type": "code",
      "source": [
        "from selenium import webdriver\n",
        "from selenium.webdriver.chrome.options import Options\n",
        "from selenium.webdriver.common.keys import Keys\n",
        "import time\n",
        "\n",
        "def take_screenshot(url, resolution=(1280, 720), filename='screenshot.png'):\n",
        "    # Set up Chrome options\n",
        "    chrome_options = Options()\n",
        "    chrome_options.add_argument(\"--headless\")\n",
        "    chrome_options.add_argument(f\"--window-size={resolution[0]}x{resolution[1]}\")\n",
        "    chrome_options.add_argument(\"--no-sandbox\")\n",
        "    chrome_options.add_argument(\"--disable-dev-shm-usage\")\n",
        "\n",
        "    # Initialize the Chrome driver\n",
        "    driver = webdriver.Chrome(options=chrome_options)\n",
        "\n",
        "    # Navigate to the URL and take a screenshot\n",
        "    driver.get(url)\n",
        "    time.sleep(2)  # Waiting for the page to load\n",
        "    driver.save_screenshot(filename)\n",
        "\n",
        "    # Quit the driver\n",
        "    driver.quit()"
      ],
      "metadata": {
        "id": "g7YFdbo-HIB-"
      },
      "execution_count": 6,
      "outputs": []
    },
    {
      "cell_type": "code",
      "source": [
        "url = 'https://www.nytimes.com/'\n",
        "resolution = (480, 4800)\n",
        "output_file = 'screenshot.png'\n",
        "\n",
        "take_screenshot(url, resolution, output_file)"
      ],
      "metadata": {
        "id": "5NC3aIGyHTvW"
      },
      "execution_count": 17,
      "outputs": []
    },
    {
      "cell_type": "markdown",
      "source": [
        "# Text to Image\n",
        "- Incomplete. Cleaning OCR text is difficult. Can explore from here. Website crawling might be better for this case. For other document images with structure, might be easier to clean."
      ],
      "metadata": {
        "id": "8Fy8qq_xH7-3"
      }
    },
    {
      "cell_type": "markdown",
      "source": [
        "```\n",
        "How do I get texts from images within google colab, using open source library?\n",
        "```"
      ],
      "metadata": {
        "id": "JXt_G8CTJqNb"
      }
    },
    {
      "cell_type": "code",
      "source": [
        "!apt --fix-broken install\n",
        "!sudo apt install tesseract-ocr\n",
        "!pip install pytesseract"
      ],
      "metadata": {
        "colab": {
          "base_uri": "https://localhost:8080/"
        },
        "id": "Hk1-beiIH9Yv",
        "outputId": "aa261009-eb8f-4fae-a448-ae768449be59"
      },
      "execution_count": 13,
      "outputs": [
        {
          "output_type": "stream",
          "name": "stdout",
          "text": [
            "Reading package lists... Done\n",
            "Building dependency tree       \n",
            "Reading state information... Done\n",
            "The following additional packages will be installed:\n",
            "  tesseract-ocr-eng tesseract-ocr-osd\n",
            "The following NEW packages will be installed:\n",
            "  tesseract-ocr tesseract-ocr-eng tesseract-ocr-osd\n",
            "0 upgraded, 3 newly installed, 0 to remove and 37 not upgraded.\n",
            "Need to get 4,850 kB of archives.\n",
            "After this operation, 16.3 MB of additional disk space will be used.\n",
            "Get:1 http://archive.ubuntu.com/ubuntu focal/universe amd64 tesseract-ocr-eng all 1:4.00~git30-7274cfa-1 [1,598 kB]\n",
            "Get:2 http://archive.ubuntu.com/ubuntu focal/universe amd64 tesseract-ocr-osd all 1:4.00~git30-7274cfa-1 [2,990 kB]\n",
            "Get:3 http://archive.ubuntu.com/ubuntu focal/universe amd64 tesseract-ocr amd64 4.1.1-2build2 [262 kB]\n",
            "Fetched 4,850 kB in 1s (6,024 kB/s)\n",
            "debconf: unable to initialize frontend: Dialog\n",
            "debconf: (No usable dialog-like program is installed, so the dialog based frontend cannot be used. at /usr/share/perl5/Debconf/FrontEnd/Dialog.pm line 76, <> line 3.)\n",
            "debconf: falling back to frontend: Readline\n",
            "debconf: unable to initialize frontend: Readline\n",
            "debconf: (This frontend requires a controlling tty.)\n",
            "debconf: falling back to frontend: Teletype\n",
            "dpkg-preconfigure: unable to re-open stdin: \n",
            "Selecting previously unselected package tesseract-ocr-eng.\n",
            "(Reading database ... 122774 files and directories currently installed.)\n",
            "Preparing to unpack .../tesseract-ocr-eng_1%3a4.00~git30-7274cfa-1_all.deb ...\n",
            "Unpacking tesseract-ocr-eng (1:4.00~git30-7274cfa-1) ...\n",
            "Selecting previously unselected package tesseract-ocr-osd.\n",
            "Preparing to unpack .../tesseract-ocr-osd_1%3a4.00~git30-7274cfa-1_all.deb ...\n",
            "Unpacking tesseract-ocr-osd (1:4.00~git30-7274cfa-1) ...\n",
            "Selecting previously unselected package tesseract-ocr.\n",
            "Preparing to unpack .../tesseract-ocr_4.1.1-2build2_amd64.deb ...\n",
            "Unpacking tesseract-ocr (4.1.1-2build2) ...\n",
            "Setting up tesseract-ocr-eng (1:4.00~git30-7274cfa-1) ...\n",
            "Setting up tesseract-ocr-osd (1:4.00~git30-7274cfa-1) ...\n",
            "Setting up tesseract-ocr (4.1.1-2build2) ...\n",
            "Processing triggers for man-db (2.9.1-1) ...\n",
            "Looking in indexes: https://pypi.org/simple, https://us-python.pkg.dev/colab-wheels/public/simple/\n",
            "Requirement already satisfied: pytesseract in /usr/local/lib/python3.10/dist-packages (0.3.10)\n",
            "Requirement already satisfied: packaging>=21.3 in /usr/local/lib/python3.10/dist-packages (from pytesseract) (23.1)\n",
            "Requirement already satisfied: Pillow>=8.0.0 in /usr/local/lib/python3.10/dist-packages (from pytesseract) (8.4.0)\n"
          ]
        }
      ]
    },
    {
      "cell_type": "code",
      "source": [
        "import pytesseract\n",
        "from PIL import Image\n",
        "\n",
        "# Load the image\n",
        "image = Image.open(\"screenshot.png\")\n",
        "\n",
        "# Extract the text from the image using Tesseract OCR\n",
        "text = pytesseract.image_to_string(image)\n",
        "\n",
        "# Print the extracted text\n",
        "print(text)"
      ],
      "metadata": {
        "colab": {
          "base_uri": "https://localhost:8080/"
        },
        "id": "xoQpDrVUH9mu",
        "outputId": "7aad5fc1-69d1-4ebb-c982-0030f7c2b733"
      },
      "execution_count": 18,
      "outputs": [
        {
          "output_type": "stream",
          "name": "stdout",
          "text": [
            "= The New York Cimes s\n",
            "\n",
            "Monday, June 12, 2023, SUBSCRIBE FORS1/WEEK\n",
            "\n",
            "In Russian Towns Pounded by\n",
            "Ukraine, Scenes of Desperation\n",
            "\n",
            "and Defiance\n",
            "\n",
            "Interviews with Russians on abandoned streets and in\n",
            "crowded shelters suggested the Ukrainian assaults had\n",
            "done little to change Vladimir Putin’s calculus.\n",
            "\n",
            "8 MIN READ\n",
            "\n",
            " \n",
            "\n",
            "Ukraine said it had retaken a village in the east, as\n",
            "its counteroffensive to push back Russia takes\n",
            "shape.\n",
            "\n",
            "See more headlines @®\n",
            "\n",
            "NATO nations kicked off their biggest air force\n",
            "drills since the end of the Cold War.\n",
            "\n",
            "3 MIN READ\n",
            "\n",
            "sovertisewent\n",
            "Googl\n",
            "\n",
            "We defend@\n",
            "America’s critical\n",
            "infrastructure\n",
            "from cyberattacks\n",
            "\n",
            "THE HEADLINES AUDIO\n",
            "Today's top news: US. economy's\n",
            "strength poses questions for the Fed,\n",
            "and more.\n",
            "\n",
            "10 MIN LISTEN\n",
            "\n",
            "   \n",
            "\n",
            "Trump Documents Inquiry The Indictment, Annotated Hov\n",
            "\n",
            "Trump Indictment Shows Critical\n",
            "Evidence Came From One of His\n",
            "Own Lawyers\n",
            "\n",
            "Evan Corcoran, who was hired to represent Donald Trump\n",
            "after prosecutors issued a subpoena for classified\n",
            "documents, could be a key witness in the trial.\n",
            "\n",
            "6 MIN READ\n",
            "\n",
            " \n",
            "\n",
            "Here’s what to expect from former President\n",
            "Trump's court appearance on Tuesday.\n",
            "\n",
            "3 MIN READ\n",
            "\n",
            "THE DAILY AUDIO\n",
            "\n",
            "Hear Ben Protess recount Donald Trump's attempts\n",
            "to hide documents from his lawyer.\n",
            "\n",
            "© 0:42\n",
            "\n",
            "Listen to the full episode.\n",
            "\n",
            "Silvio Berlusconi, Showman Who\n",
            "Upended Italian Politics, Dies at 86\n",
            "\n",
            " \n",
            "\n",
            "Noise Could Take Years Off Your\n",
            "Life. Here’s Why.\n",
            "\n",
            "We used a professional sound meter to measure the din of\n",
            "daily life and talked to scientists about the health risks it\n",
            "can pose.\n",
            "\n",
            " \n",
            "\n",
            "Are you exposed to too much noise? Here’s how to\n",
            "check.\n",
            "\n",
            "3 MIN READ\n",
            "\n",
            "The Neighbor No One Told Him\n",
            "About: A Former Toxic Waste\n",
            "Site\n",
            "\n",
            "Love Canal saw one of the worst toxic waste catastrophes\n",
            "in the United States. Now it’s the site for a new generation\n",
            "\n",
            "of homesteaders.\n",
            "\n",
            "7 MIN READ\n",
            "\n",
            " \n",
            "\n",
            " \n",
            "\n",
            "CTL. @..4.U'N. IAA. D_.36.L\n",
            "\f\n"
          ]
        }
      ]
    },
    {
      "cell_type": "markdown",
      "source": [
        "```\n",
        "Tell me more about cleaning techniques.\n",
        "```\n",
        "\n",
        "Answer:\n",
        "Sure, here are some common techniques that can be used to clean up OCR text:\n",
        "\n",
        "1. Remove headers and footers: OCR software may pick up headers and footers from the original document, which are not part of the main text. These can be removed by identifying patterns in the text, such as repeating phrases or page numbers.\n",
        "\n",
        "2. Remove page numbers and other extraneous information: Some OCR software may include page numbers, date stamps, or other information that is not part of the main text. These can be identified and removed using regular expressions or other pattern matching techniques.\n",
        "\n",
        "3. Remove non-text elements: OCR software may include non-text elements such as images or tables that are not part of the main text. These can be removed using image processing techniques or by identifying patterns in the text that are not part of the main article.\n",
        "\n",
        "4. Correct spelling and grammar errors: OCR software may introduce spelling and grammar errors, especially if the original document is of poor quality or contains handwriting. These errors can be corrected using spell-checking software or by manually reviewing the text.\n",
        "\n",
        "5. Segment the text into paragraphs: OCR software may produce a single block of text without any paragraph breaks. This can be corrected by identifying patterns in the text, such as indentation or line breaks, and inserting paragraph breaks accordingly.\n",
        "\n",
        "6. Normalize the text format: OCR software may produce text in different fonts or sizes. This can be normalized by converting the text to a consistent font and size, and by removing any formatting such as bold or italicized text.\n",
        "\n",
        "These are just a few examples of common techniques for cleaning up OCR text. The specific techniques used may vary depending on the type of document, the quality of the OCR output, and the desired format of the cleaned up text."
      ],
      "metadata": {
        "id": "fGtLiK2HJ_7K"
      }
    },
    {
      "cell_type": "code",
      "source": [
        "import re\n",
        "\n",
        "# Load the OCR text\n",
        "\n",
        "# Remove headers and footers\n",
        "header_footer_pattern = r\"\\b(The New York Times)\\b.*\\b(Subscribe)\\b\"\n",
        "text = re.sub(header_footer_pattern, \"\", text)\n",
        "\n",
        "# Remove page numbers and other extraneous information\n",
        "page_number_pattern = r\"\\b\\d{1,3}\\b\"\n",
        "text = re.sub(page_number_pattern, \"\", text)\n",
        "\n",
        "# Remove non-text elements\n",
        "text = re.sub(r\"\\n\\s*\\n\", \"\\n\", text) # Remove blank lines\n",
        "text = re.sub(r\"\\s{2,}\", \" \", text) # Remove extra spaces\n",
        "\n",
        "# Correct spelling and grammar errors\n",
        "# (This step may require additional tools or manual review)\n",
        "\n",
        "# Segment the text into paragraphs\n",
        "text = re.sub(r\"\\n\", \" \", text)\n",
        "text = re.sub(r\"(\\.\\s*){3,}\", \"\\n\", text)\n",
        "\n",
        "# Normalize the text format\n",
        "text = text.lower() # Convert to lowercase\n",
        "text = re.sub(r\"\\s+\", \" \", text) # Remove extra spaces\n",
        "\n",
        "# Print the cleaned up text\n",
        "print(text)"
      ],
      "metadata": {
        "colab": {
          "base_uri": "https://localhost:8080/"
        },
        "id": "mi9f2cfNIJdz",
        "outputId": "281ce27c-b6c1-4354-ef79-d61cb9995403"
      },
      "execution_count": 19,
      "outputs": [
        {
          "output_type": "stream",
          "name": "stdout",
          "text": [
            "= the new york cimes s monday, june , 2023, subscribe fors1/week in russian towns pounded by ukraine, scenes of desperation and defiance interviews with russians on abandoned streets and in crowded shelters suggested the ukrainian assaults had done little to change vladimir putin’s calculus. min read ukraine said it had retaken a village in the east, as its counteroffensive to push back russia takes shape. see more headlines @® nato nations kicked off their biggest air force drills since the end of the cold war. min read sovertisewent googl we defend@ america’s critical infrastructure from cyberattacks the headlines audio today's top news: us. economy's strength poses questions for the fed, and more. min listen trump documents inquiry the indictment, annotated hov trump indictment shows critical evidence came from one of his own lawyers evan corcoran, who was hired to represent donald trump after prosecutors issued a subpoena for classified documents, could be a key witness in the trial. min read here’s what to expect from former president trump's court appearance on tuesday. min read the daily audio hear ben protess recount donald trump's attempts to hide documents from his lawyer. © : listen to the full episode. silvio berlusconi, showman who upended italian politics, dies at noise could take years off your life. here’s why. we used a professional sound meter to measure the din of daily life and talked to scientists about the health risks it can pose. are you exposed to too much noise? here’s how to check. min read the neighbor no one told him about: a former toxic waste site love canal saw one of the worst toxic waste catastrophes in the united states. now it’s the site for a new generation of homesteaders. min read ctl. @ u'n. iaa. d_..l \n"
          ]
        }
      ]
    },
    {
      "cell_type": "markdown",
      "source": [],
      "metadata": {
        "id": "iEKkXpCPOIn8"
      }
    },
    {
      "cell_type": "markdown",
      "source": [
        "# PDF to Text\n",
        "- to add optimize semantic search"
      ],
      "metadata": {
        "id": "-nAytWNNO8--"
      }
    },
    {
      "cell_type": "markdown",
      "source": [
        "```\n",
        "Now write me script to read an pdf file into text\n",
        "```"
      ],
      "metadata": {
        "id": "kI-ylUHVO7Tb"
      }
    },
    {
      "cell_type": "code",
      "source": [
        "!pip install PyPDF2==2.8.0\n",
        "!pip install requests"
      ],
      "metadata": {
        "colab": {
          "base_uri": "https://localhost:8080/",
          "height": 277
        },
        "id": "SipKw6qlM4j8",
        "outputId": "bcb88439-9822-4a33-dede-04912daebdb1"
      },
      "execution_count": 44,
      "outputs": [
        {
          "output_type": "stream",
          "name": "stdout",
          "text": [
            "Looking in indexes: https://pypi.org/simple, https://us-python.pkg.dev/colab-wheels/public/simple/\n",
            "Collecting PyPDF2==2.8.0\n",
            "  Downloading PyPDF2-2.8.0-py3-none-any.whl (204 kB)\n",
            "\u001b[2K     \u001b[90m━━━━━━━━━━━━━━━━━━━━━━━━━━━━━━━━━━━━━━━\u001b[0m \u001b[32m204.7/204.7 kB\u001b[0m \u001b[31m8.7 MB/s\u001b[0m eta \u001b[36m0:00:00\u001b[0m\n",
            "\u001b[?25hInstalling collected packages: PyPDF2\n",
            "  Attempting uninstall: PyPDF2\n",
            "    Found existing installation: PyPDF2 3.0.1\n",
            "    Uninstalling PyPDF2-3.0.1:\n",
            "      Successfully uninstalled PyPDF2-3.0.1\n",
            "Successfully installed PyPDF2-2.8.0\n"
          ]
        },
        {
          "output_type": "display_data",
          "data": {
            "application/vnd.colab-display-data+json": {
              "pip_warning": {
                "packages": [
                  "PyPDF2"
                ]
              }
            }
          },
          "metadata": {}
        }
      ]
    },
    {
      "cell_type": "code",
      "source": [
        "import requests\n",
        "import io\n",
        "import PyPDF2\n",
        "\n",
        "# Define the URL of the PDF file\n",
        "pdf_url = \"https://www.hkma.gov.hk/media/gb_chi/doc/key-information/guidelines-and-circular/2023/20230510c1a1.pdf\"\n",
        "\n",
        "# Download the PDF file and store it in a byte stream\n",
        "response = requests.get(pdf_url)\n",
        "pdf_bytes = io.BytesIO(response.content)\n",
        "\n",
        "# Create a PDF reader object\n",
        "pdf_reader = PyPDF2.PdfFileReader(pdf_bytes)\n",
        "\n",
        "# Extract the text from the PDF file and store it in a string variable\n",
        "text = \"\"\n",
        "for page_num in range(pdf_reader.getNumPages()):\n",
        "    page = pdf_reader.getPage(page_num)\n",
        "    text += page.extractText()"
      ],
      "metadata": {
        "id": "eAhOsjKSJeiu"
      },
      "execution_count": 10,
      "outputs": []
    },
    {
      "cell_type": "code",
      "source": [
        "!pip install spacy\n",
        "!python -m spacy download en_core_web_lg"
      ],
      "metadata": {
        "colab": {
          "base_uri": "https://localhost:8080/"
        },
        "id": "ErEiERYcM8h_",
        "outputId": "5ba85d71-b4b5-41e2-e719-86adc7f493fa"
      },
      "execution_count": 14,
      "outputs": [
        {
          "output_type": "stream",
          "name": "stdout",
          "text": [
            "Looking in indexes: https://pypi.org/simple, https://us-python.pkg.dev/colab-wheels/public/simple/\n",
            "Requirement already satisfied: spacy in /usr/local/lib/python3.10/dist-packages (3.5.2)\n",
            "Requirement already satisfied: spacy-legacy<3.1.0,>=3.0.11 in /usr/local/lib/python3.10/dist-packages (from spacy) (3.0.12)\n",
            "Requirement already satisfied: spacy-loggers<2.0.0,>=1.0.0 in /usr/local/lib/python3.10/dist-packages (from spacy) (1.0.4)\n",
            "Requirement already satisfied: murmurhash<1.1.0,>=0.28.0 in /usr/local/lib/python3.10/dist-packages (from spacy) (1.0.9)\n",
            "Requirement already satisfied: cymem<2.1.0,>=2.0.2 in /usr/local/lib/python3.10/dist-packages (from spacy) (2.0.7)\n",
            "Requirement already satisfied: preshed<3.1.0,>=3.0.2 in /usr/local/lib/python3.10/dist-packages (from spacy) (3.0.8)\n",
            "Requirement already satisfied: thinc<8.2.0,>=8.1.8 in /usr/local/lib/python3.10/dist-packages (from spacy) (8.1.9)\n",
            "Requirement already satisfied: wasabi<1.2.0,>=0.9.1 in /usr/local/lib/python3.10/dist-packages (from spacy) (1.1.1)\n",
            "Requirement already satisfied: srsly<3.0.0,>=2.4.3 in /usr/local/lib/python3.10/dist-packages (from spacy) (2.4.6)\n",
            "Requirement already satisfied: catalogue<2.1.0,>=2.0.6 in /usr/local/lib/python3.10/dist-packages (from spacy) (2.0.8)\n",
            "Requirement already satisfied: typer<0.8.0,>=0.3.0 in /usr/local/lib/python3.10/dist-packages (from spacy) (0.7.0)\n",
            "Requirement already satisfied: pathy>=0.10.0 in /usr/local/lib/python3.10/dist-packages (from spacy) (0.10.1)\n",
            "Requirement already satisfied: smart-open<7.0.0,>=5.2.1 in /usr/local/lib/python3.10/dist-packages (from spacy) (6.3.0)\n",
            "Requirement already satisfied: tqdm<5.0.0,>=4.38.0 in /usr/local/lib/python3.10/dist-packages (from spacy) (4.65.0)\n",
            "Requirement already satisfied: numpy>=1.15.0 in /usr/local/lib/python3.10/dist-packages (from spacy) (1.22.4)\n",
            "Requirement already satisfied: requests<3.0.0,>=2.13.0 in /usr/local/lib/python3.10/dist-packages (from spacy) (2.27.1)\n",
            "Requirement already satisfied: pydantic!=1.8,!=1.8.1,<1.11.0,>=1.7.4 in /usr/local/lib/python3.10/dist-packages (from spacy) (1.10.7)\n",
            "Requirement already satisfied: jinja2 in /usr/local/lib/python3.10/dist-packages (from spacy) (3.1.2)\n",
            "Requirement already satisfied: setuptools in /usr/local/lib/python3.10/dist-packages (from spacy) (67.7.2)\n",
            "Requirement already satisfied: packaging>=20.0 in /usr/local/lib/python3.10/dist-packages (from spacy) (23.1)\n",
            "Requirement already satisfied: langcodes<4.0.0,>=3.2.0 in /usr/local/lib/python3.10/dist-packages (from spacy) (3.3.0)\n",
            "Requirement already satisfied: typing-extensions>=4.2.0 in /usr/local/lib/python3.10/dist-packages (from pydantic!=1.8,!=1.8.1,<1.11.0,>=1.7.4->spacy) (4.5.0)\n",
            "Requirement already satisfied: urllib3<1.27,>=1.21.1 in /usr/local/lib/python3.10/dist-packages (from requests<3.0.0,>=2.13.0->spacy) (1.26.15)\n",
            "Requirement already satisfied: certifi>=2017.4.17 in /usr/local/lib/python3.10/dist-packages (from requests<3.0.0,>=2.13.0->spacy) (2022.12.7)\n",
            "Requirement already satisfied: charset-normalizer~=2.0.0 in /usr/local/lib/python3.10/dist-packages (from requests<3.0.0,>=2.13.0->spacy) (2.0.12)\n",
            "Requirement already satisfied: idna<4,>=2.5 in /usr/local/lib/python3.10/dist-packages (from requests<3.0.0,>=2.13.0->spacy) (3.4)\n",
            "Requirement already satisfied: blis<0.8.0,>=0.7.8 in /usr/local/lib/python3.10/dist-packages (from thinc<8.2.0,>=8.1.8->spacy) (0.7.9)\n",
            "Requirement already satisfied: confection<1.0.0,>=0.0.1 in /usr/local/lib/python3.10/dist-packages (from thinc<8.2.0,>=8.1.8->spacy) (0.0.4)\n",
            "Requirement already satisfied: click<9.0.0,>=7.1.1 in /usr/local/lib/python3.10/dist-packages (from typer<0.8.0,>=0.3.0->spacy) (8.1.3)\n",
            "Requirement already satisfied: MarkupSafe>=2.0 in /usr/local/lib/python3.10/dist-packages (from jinja2->spacy) (2.1.2)\n"
          ]
        }
      ]
    },
    {
      "cell_type": "code",
      "source": [
        "import spacy\n",
        "\n",
        "# Load the English language model\n",
        "nlp = spacy.load('en_core_web_lg')\n",
        "\n",
        "# Process the text object using the spaCy pipeline\n",
        "doc = nlp(text)\n",
        "\n",
        "# Define the keyword(s) to look for\n",
        "keywords = ['cross-border']\n",
        "\n",
        "# Loop through each sentence in the text object\n",
        "for sent in doc.sents:\n",
        "    # Calculate the similarity score between the sentence and the keyword(s)\n",
        "    similarity_score = sent.similarity(nlp(' '.join(keywords)))\n",
        "    # If the similarity score is above a certain threshold, print the sentence\n",
        "    if similarity_score > 0.5:\n",
        "        print(sent.text)"
      ],
      "metadata": {
        "colab": {
          "base_uri": "https://localhost:8080/"
        },
        "id": "Atv_8GGOOprf",
        "outputId": "a32fa2a6-6d11-43ae-a1f5-d6654ca0e361"
      },
      "execution_count": 24,
      "outputs": [
        {
          "output_type": "stream",
          "name": "stdout",
          "text": [
            "Implementation guidance 3.1 Establish the right operating model with the right people and capabilities 3.2 Identify data being collected and processed 3.3 Privacy risk assessment 3.4 Determine the suitable deployment model: build vs buy 3.5 Provide up-to-date training and education4 Regtech use cases 4.1 Use case #1 - Automating privacy control against evolving regulatory landscape5 ConclusionA Appendix A.1\n",
            "In November 2020, the HKMA released a two-year roadmap to promote Regtech adoption in Hong Kong, as laid out in a White Paper titled “Transforming Risk Management and Compliance: Harnessing the Power of Regtech”.\n",
            "1  The White Paper identified 16 recommendations across five core areas to accelerate the further adoption of Regtech in Hong Kong.\n",
            "Outline the key challenges that Hong Kong-based banks are currently facing in relation to management of customer data and privacy compliance•\n",
            "Privacy Regtech solutions provide ready-to-access information in the event of a breach.  \n",
            "Staying current with proliferating privacy regulations \n",
            "Around the world, privacy laws and regulations, many with extra-territorial effect, continue to evolve.  \n",
            "Given the on-going escalation of data privacy requirements, taking a short-term view on saving money and not investing in proper privacy risk management is most likely to lead to greater spending on remediation actions at a later time.  \n",
            "A cross-functional project team enables a bank to adopt a structured approach to identify privacy issues and choose the appropriate deployment pathway to test, implement and maintain the selected solution.  \n",
            "The bank should take a risk-based approach and conduct a cost-benefit analysis to determine the suitable deployment model.  \n",
            "\n",
            "3.5 Provide up-to-date training and education  \n",
            "\n",
            "Recurrent and up-to-date training should be offered to employees so that they appreciate their role in handling and protecting customer data lawfully and in line with the bank’s expectations about their day-to-day roles.  \n",
            "\n",
            "4.1 Use case #1 - Automating privacy control against evolving regulatory landscape \n",
            "Challenges\n",
            "Staying compliant with rapidly changing privacy laws and regulations is one of the biggest challenges for banks and financial institutions.  \n",
            "2 The three lines of defence within organisations are as follows: First line: consists of the executive management team and functional areas within the business that are responsible for the day-to-day ownership and management of risks.  \n",
            "Third line: provides independent and objective assurance on the appropriateness and effectiveness of controllership across the business, the effectiveness of risk management activity (undertaken by the first and second lines), and the overall effectiveness of governance.\n",
            "The selected privacy Regtech vendor was chosen based on the following significant advantages:• Robust Governance, Risk and Compliance (GRC) solution: The vendor had a cross-functional GRC programme, that helped identify and manage risks within many functions of the company.  \n",
            "This particular solution enabled assessment cooperation across the company and the rapid generation of reports and dashboards.  \n",
            "• Up-to-date privacy solutions for regulatory compliance: The vendor continuously monitored new and relevant regulations, sending out notifications and updating the solution as appropriate.  \n",
            "This allowed users to stay up-to-date.\n",
            "Regarding integration of systems, the company set up the integration between the privacy Regtech solution add-on and its ticket management system, which facilitated the DSAR fulfillment process.  \n",
            "\n",
            "A privacy Regtech solution should tie together data policies, business processes, risk policies and regulatory requirements, and have the right user-friendly functionality.  \n",
            "Collaborates with cross-functional teams and actively seeks feedback from various working groups to ensure that privacy is ingrained in the activities and aligns to the strategic goals of the organisation.  \n",
            "• Privacy Counsel: Provides critical legal advice and assistance to the company’s cross-functional teams on any privacy-related issues.  \n",
            "This role is responsible for partnering with the products team to implement privacy-by-design at the onset of the privacy Regtech development and implementation.\n",
            "While the external consultant assisted the company in visualising and implementing the new workflows necessary for end-to-end privacy operations, members from across the organisation were willing to adapt to the changes.   \n",
            "Ongoing monitoring and compliance: A continuous control should be maintained over the privacy Regtech solution post-implementation.  \n",
            "A clear implementation roadmap should be formulated and the support and co-operation of all the different business functions within a bank is vital for success.  \n",
            "Evaluation of third-party vendors and their solutions should be conducted thoroughly in order to engage the right experts and products.  \n"
          ]
        }
      ]
    },
    {
      "cell_type": "markdown",
      "source": [
        "# Text Search - Desensitization"
      ],
      "metadata": {
        "id": "3sBdcwoUVTgm"
      }
    },
    {
      "cell_type": "markdown",
      "source": [
        "```\n",
        "You are an expert in python, process automation.\n",
        "You will help me write the code for automating daily routine in Google Colab .\n",
        "I will provide you precise instructions on what needs to be done, understand the task and write neat, concise code with comments accordingly.\n",
        "\n",
        "Write a script to read from a word document [text.doc]. Identify all PII data, then replace them with '***' then write into a new word file named [text_desensitised.doc]\n",
        "\n",
        "use regex to identify address (Hong kong address), phone number and email.\n",
        "\n",
        "phone number examples: 852-1234-5678\n",
        "(852)12345678\n",
        "(852)1234-5555\n",
        "+852-11223456\n",
        "+85221234566\n",
        "+852 12345678\n",
        "+852 1234 5678\n",
        "```\n",
        "\n",
        "```\n",
        "phone and address regex has conflict, now the last digits of phone was identified as address\n",
        "```"
      ],
      "metadata": {
        "id": "8kGXgv2zV2DV"
      }
    },
    {
      "cell_type": "code",
      "source": [
        "!pip install python-docx"
      ],
      "metadata": {
        "colab": {
          "base_uri": "https://localhost:8080/",
          "height": 364
        },
        "id": "adBTJX_7Vijv",
        "outputId": "ab9cc2ce-b5de-47f7-c312-097920c56921"
      },
      "execution_count": 31,
      "outputs": [
        {
          "output_type": "stream",
          "name": "stdout",
          "text": [
            "Looking in indexes: https://pypi.org/simple, https://us-python.pkg.dev/colab-wheels/public/simple/\n",
            "Requirement already satisfied: docx==0.2.0 in /usr/local/lib/python3.10/dist-packages (0.2.0)\n",
            "Looking in indexes: https://pypi.org/simple, https://us-python.pkg.dev/colab-wheels/public/simple/\n",
            "Collecting python-docx\n",
            "  Downloading python-docx-0.8.11.tar.gz (5.6 MB)\n",
            "\u001b[2K     \u001b[90m━━━━━━━━━━━━━━━━━━━━━━━━━━━━━━━━━━━━━━━━\u001b[0m \u001b[32m5.6/5.6 MB\u001b[0m \u001b[31m59.0 MB/s\u001b[0m eta \u001b[36m0:00:00\u001b[0m\n",
            "\u001b[?25h  Preparing metadata (setup.py) ... \u001b[?25l\u001b[?25hdone\n",
            "Requirement already satisfied: lxml>=2.3.2 in /usr/local/lib/python3.10/dist-packages (from python-docx) (4.9.2)\n",
            "Building wheels for collected packages: python-docx\n",
            "  Building wheel for python-docx (setup.py) ... \u001b[?25l\u001b[?25hdone\n",
            "  Created wheel for python-docx: filename=python_docx-0.8.11-py3-none-any.whl size=184491 sha256=797c96813aae30e5e02cd44754b0583a7bead84f76c1ca4302151c73b16980b6\n",
            "  Stored in directory: /root/.cache/pip/wheels/80/27/06/837436d4c3bd989b957a91679966f207bfd71d358d63a8194d\n",
            "Successfully built python-docx\n",
            "Installing collected packages: python-docx\n",
            "Successfully installed python-docx-0.8.11\n"
          ]
        },
        {
          "output_type": "display_data",
          "data": {
            "application/vnd.colab-display-data+json": {
              "pip_warning": {
                "packages": [
                  "docx"
                ]
              }
            }
          },
          "metadata": {}
        }
      ]
    },
    {
      "cell_type": "code",
      "source": [
        "import re\n",
        "import docx\n",
        "\n",
        "# define regular expressions for PII data\n",
        "# address_regex = r'\\b\\d+[A-Za-z]?(?:/[A-Za-z])?(?: [A-Za-z]+){1,3}(?:, [A-Za-z]+)?,?\\b'\n",
        "# phone_regex = r'(\\+?852[\\-\\s]?\\d{4}[\\-\\s]?\\d{4})'\n",
        "phone_or_address_pattern = r'(\\d{3,4}[-\\.\\s]??\\d{3,4}[-\\.\\s]??\\d{3,4}|\\+\\d{2}[-\\.\\s]??\\d{2,3}[-\\.\\s]??\\d{6,8}|\\b\\d+[A-Za-z]?(?:/[A-Za-z])?(?: [A-Za-z]+){1,3}(?:, [A-Za-z]+)?,?\\b)'\n",
        "email_regex = r'[a-zA-Z0-9._%+-]+@[a-zA-Z0-9.-]+\\.[a-zA-Z]{2,}'\n",
        "\n",
        "# open input and output files\n",
        "doc = docx.Document('text.docx')\n",
        "doc_desensitised = docx.Document()\n",
        "\n",
        "# iterate over paragraphs in input document\n",
        "for paragraph in doc.paragraphs:\n",
        "    # check for PII data and replace with ***\n",
        "    paragraph_text = paragraph.text\n",
        "    paragraph_text = re.sub(phone_or_address_pattern, '***', paragraph_text)\n",
        "    # paragraph_text = re.sub(phone_regex, '***', paragraph_text)\n",
        "    paragraph_text = re.sub(email_regex, '***', paragraph_text)\n",
        "    \n",
        "    # add paragraph to output document\n",
        "    doc_desensitised.add_paragraph(paragraph_text)\n",
        "\n",
        "# save output document\n",
        "doc_desensitised.save('text_desensitised.docx')"
      ],
      "metadata": {
        "id": "kM9xElEOVmCv"
      },
      "execution_count": 20,
      "outputs": []
    },
    {
      "cell_type": "code",
      "source": [],
      "metadata": {
        "id": "5op2B2LjYvyv"
      },
      "execution_count": null,
      "outputs": []
    }
  ]
}